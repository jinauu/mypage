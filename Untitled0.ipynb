{
  "nbformat": 4,
  "nbformat_minor": 0,
  "metadata": {
    "colab": {
      "provenance": [],
      "mount_file_id": "1nsG0mjsAb3mbagU67FxvtXT4cjK35R4_",
      "authorship_tag": "ABX9TyPjz7iU8p2iH0A8Kzs4fZXy",
      "include_colab_link": true
    },
    "kernelspec": {
      "name": "python3",
      "display_name": "Python 3"
    },
    "language_info": {
      "name": "python"
    }
  },
  "cells": [
    {
      "cell_type": "markdown",
      "metadata": {
        "id": "view-in-github",
        "colab_type": "text"
      },
      "source": [
        "<a href=\"https://colab.research.google.com/github/jinauu/mypage/blob/main/Untitled0.ipynb\" target=\"_parent\"><img src=\"https://colab.research.google.com/assets/colab-badge.svg\" alt=\"Open In Colab\"/></a>"
      ]
    },
    {
      "cell_type": "code",
      "source": [
        "answer = 'carrot'\n",
        "letters = \"\" #입력받은 알파벳을 변수에 저장\n",
        "\n",
        "while True:\n",
        "  success = True\n",
        "\n",
        "  for a in answer:\n",
        "    if a in letters: #입력받은 알파벳이 정답에 있을 경우\n",
        "       print(a, end = \" \")\n",
        "    else:\n",
        "       print(\"_\", end = \" \")\n",
        "       success = False #밑줄이 하나라도 있을 경우 성공이 아님\n",
        "\n",
        "  print()\n",
        "\n",
        "  if success: #밑줄이 하나도 없을 경우 성공\n",
        "    print(\"success\")\n",
        "    break #더 이상 입력 받지 않아도 된다\n",
        "\n",
        "  letter = input(\"\")  #사용자 입력 받기\n",
        "  if letter not in letters: #입력했던 알파벳이 아니라면 letters에 추가\n",
        "    letters += lettert\n",
        "\n",
        "\n",
        "\n",
        "\n",
        "\n",
        "\n"
      ],
      "metadata": {
        "colab": {
          "base_uri": "https://localhost:8080/"
        },
        "id": "AUza11vyrIE7",
        "outputId": "615530df-2366-46df-c799-ff3e93b3dd45"
      },
      "execution_count": 54,
      "outputs": [
        {
          "output_type": "stream",
          "name": "stdout",
          "text": [
            "c a r r o t \n",
            "success\n"
          ]
        }
      ]
    }
  ]
}