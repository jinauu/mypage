{
  "nbformat": 4,
  "nbformat_minor": 0,
  "metadata": {
    "colab": {
      "provenance": [],
      "mount_file_id": "1nsG0mjsAb3mbagU67FxvtXT4cjK35R4_",
      "authorship_tag": "ABX9TyOv8qO/KDPz4GlPmsqABD/0",
      "include_colab_link": true
    },
    "kernelspec": {
      "name": "python3",
      "display_name": "Python 3"
    },
    "language_info": {
      "name": "python"
    }
  },
  "cells": [
    {
      "cell_type": "markdown",
      "metadata": {
        "id": "view-in-github",
        "colab_type": "text"
      },
      "source": [
        "<a href=\"https://colab.research.google.com/github/jinauu/mypage/blob/main/Untitled0.ipynb\" target=\"_parent\"><img src=\"https://colab.research.google.com/assets/colab-badge.svg\" alt=\"Open In Colab\"/></a>"
      ]
    },
    {
      "cell_type": "code",
      "source": [
        "import random\n",
        "scores = dict()\n",
        "for i in range(10,50):\n",
        " scores['S' + str(i)] = random.randrange(50,100)\n",
        "h_scores = max(scores.values())\n",
        "h_scores_std = scores.(h_scores)\n",
        "print(\"최고점수: \",h_scores)\n",
        "print(\"최고점수인 학생: \",h_scores_std)"
      ],
      "metadata": {
        "colab": {
          "base_uri": "https://localhost:8080/",
          "height": 255
        },
        "id": "fRQ3rEMwhKz6",
        "outputId": "98cd53ae-fa92-42ca-c6a8-50a01e74e3f9"
      },
      "execution_count": 43,
      "outputs": [
        {
          "output_type": "error",
          "ename": "AttributeError",
          "evalue": "ignored",
          "traceback": [
            "\u001b[0;31m---------------------------------------------------------------------------\u001b[0m",
            "\u001b[0;31mAttributeError\u001b[0m                            Traceback (most recent call last)",
            "\u001b[0;32m<ipython-input-43-1aa11bb6ee9b>\u001b[0m in \u001b[0;36m<cell line: 6>\u001b[0;34m()\u001b[0m\n\u001b[1;32m      4\u001b[0m  \u001b[0mscores\u001b[0m\u001b[0;34m[\u001b[0m\u001b[0;34m'S'\u001b[0m \u001b[0;34m+\u001b[0m \u001b[0mstr\u001b[0m\u001b[0;34m(\u001b[0m\u001b[0mi\u001b[0m\u001b[0;34m)\u001b[0m\u001b[0;34m]\u001b[0m \u001b[0;34m=\u001b[0m \u001b[0mrandom\u001b[0m\u001b[0;34m.\u001b[0m\u001b[0mrandrange\u001b[0m\u001b[0;34m(\u001b[0m\u001b[0;36m50\u001b[0m\u001b[0;34m,\u001b[0m\u001b[0;36m100\u001b[0m\u001b[0;34m)\u001b[0m\u001b[0;34m\u001b[0m\u001b[0;34m\u001b[0m\u001b[0m\n\u001b[1;32m      5\u001b[0m \u001b[0mh_scores\u001b[0m \u001b[0;34m=\u001b[0m \u001b[0mmax\u001b[0m\u001b[0;34m(\u001b[0m\u001b[0mscores\u001b[0m\u001b[0;34m.\u001b[0m\u001b[0mvalues\u001b[0m\u001b[0;34m(\u001b[0m\u001b[0;34m)\u001b[0m\u001b[0;34m)\u001b[0m\u001b[0;34m\u001b[0m\u001b[0;34m\u001b[0m\u001b[0m\n\u001b[0;32m----> 6\u001b[0;31m \u001b[0mh_scores_std\u001b[0m \u001b[0;34m=\u001b[0m \u001b[0mscores\u001b[0m\u001b[0;34m.\u001b[0m\u001b[0mdict\u001b[0m\u001b[0;34m(\u001b[0m\u001b[0mh_scores\u001b[0m\u001b[0;34m)\u001b[0m\u001b[0;34m\u001b[0m\u001b[0;34m\u001b[0m\u001b[0m\n\u001b[0m\u001b[1;32m      7\u001b[0m \u001b[0mprint\u001b[0m\u001b[0;34m(\u001b[0m\u001b[0;34m\"최고점수: \"\u001b[0m\u001b[0;34m,\u001b[0m\u001b[0mh_scores\u001b[0m\u001b[0;34m)\u001b[0m\u001b[0;34m\u001b[0m\u001b[0;34m\u001b[0m\u001b[0m\n\u001b[1;32m      8\u001b[0m \u001b[0mprint\u001b[0m\u001b[0;34m(\u001b[0m\u001b[0;34m\"최고점수인 학생: \"\u001b[0m\u001b[0;34m,\u001b[0m\u001b[0mh_scores_std\u001b[0m\u001b[0;34m)\u001b[0m\u001b[0;34m\u001b[0m\u001b[0;34m\u001b[0m\u001b[0m\n",
            "\u001b[0;31mAttributeError\u001b[0m: 'dict' object has no attribute 'dict'"
          ]
        }
      ]
    },
    {
      "cell_type": "code",
      "source": [
        "answer = 'carrot'\n",
        "letters = \"\" #입력받은 알파벳을 변수에 저장\n",
        "\n",
        "while True:\n",
        "  success = True\n",
        "\n",
        "  for a in answer:\n",
        "    if a in letters: #입력받은 알파벳이 정답에 있을 경우\n",
        "       print(a, end = \" \")\n",
        "    else:\n",
        "       print(\"_\", end = \" \")\n",
        "       success = False #밑줄이 하나라도 있을 경우 성공이 아님\n",
        "\n",
        "  print()\n",
        "\n",
        "  if success: #밑줄이 하나도 없을 경우 성공\n",
        "    print(\"success\")\n",
        "    break #더 이상 입력 받지 않아도 된다\n",
        "\n",
        "  letter = input(\"\")  #사용자 입력 받기\n",
        "  if letter not in letters: #입력했던 알파벳이 아니라면 letters에 추가\n",
        "    letters += lettert\n",
        "\n",
        "\n",
        "\n",
        "\n",
        "\n",
        "\n"
      ],
      "metadata": {
        "colab": {
          "base_uri": "https://localhost:8080/"
        },
        "id": "AUza11vyrIE7",
        "outputId": "615530df-2366-46df-c799-ff3e93b3dd45"
      },
      "execution_count": 54,
      "outputs": [
        {
          "output_type": "stream",
          "name": "stdout",
          "text": [
            "c a r r o t \n",
            "success\n"
          ]
        }
      ]
    }
  ]
}